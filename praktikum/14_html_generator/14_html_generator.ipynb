{
 "cells": [
  {
   "cell_type": "markdown",
   "metadata": {},
   "source": [
    "# HTML Generator\n",
    "\n",
    "Da es unfassbar langweilig ist, HTML-Code manuell zu schreiben, programmieren wir uns im Rahmen dieses Notebooks einen einfachen HTML-Generator. "
   ]
  },
  {
   "cell_type": "markdown",
   "metadata": {},
   "source": [
    "## HTML?!\n",
    "\n",
    "Falls Sie nicht wissen, wie HTML-Dokumente aufgebaut sind, finden Sie hier einen kurzen Auszug aus einem Chat mit ChatGPT:\n",
    "\n",
    "<hr>\n",
    "\n",
    "***You:*** Erläutere mir kurz wie ein HTML Dokument aufgebaut ist.\n",
    "\n",
    "***ChatGPT:*** Ein HTML-Dokument (Hypertext Markup Language) besteht aus einer Reihe von HTML-Tags, die den Strukturaufbau und die Formatierung des Inhalts einer Webseite definieren. Hier ist eine grundlegende Struktur eines HTML-Dokuments:\n",
    "\n",
    "```html\n",
    "<!DOCTYPE html>\n",
    "<html lang=\"de\">\n",
    "<head>\n",
    "    <meta charset=\"UTF-8\">\n",
    "    <meta name=\"viewport\" content=\"width=device-width, initial-scale=1.0\">\n",
    "    <title>Titel der Webseite</title>\n",
    "</head>\n",
    "<body>\n",
    "    <!-- Der eigentliche Inhalt der Webseite -->\n",
    "    <h1>Dies ist eine sehr große Überschrift</h1>\n",
    "    <h2>Dies ist eine etwas kleinere Überschrift</h2>\n",
    "    <p>Dies ist ein Abschnitt</p>\n",
    "</body>\n",
    "</html>\n",
    "```\n",
    "\n",
    "* `<!DOCTYPE html>`: Gibt den Browsern an, dass es sich um ein HTML5-Dokument handelt.\n",
    "* `<html>`: Das Wurzelelement, das den gesamten HTML-Inhalt umschließt.\n",
    "lang=\"de\": Das Attribut gibt die Sprache der Webseite an, hier Deutsch.\n",
    "* `<head>`: Enthält Meta-Informationen über das Dokument, wie z.B. Zeichensatzdefinition, Titel und Verweise auf externe Ressourcen.\n",
    "* `<meta charset=\"UTF-8\">`: Definiert den Zeichensatz (UTF-8), der für das Dokument verwendet wird.\n",
    "* `<meta name=\"viewport\" content=\"width=device-width, initial-scale=1.0\">`: Hilft bei der Anpassung der Darstellung auf verschiedenen Geräten.\n",
    "* `<title>`: Der Titel der Webseite, der im Browser-Tab angezeigt wird.\n",
    "* `<body>`: Enthält den eigentlichen Inhalt der Webseite, wie Texte, Bilder, Links, usw.\n",
    "Der Inhalt der Webseite wird innerhalb des `<body>`-Tags platziert, und hier können weitere Tags für verschiedene Elemente wie Überschriften (`<h1>`, `<h2>`, usw.), Absätze (`<p>`), Bilder (`<img>`), Links (`<a>`), Listen (`<ul>`, `<ol>`, `<li>`), usw. eingefügt werden. Jedes Tag hat einen spezifischen Zweck und trägt zur Struktur und Darstellung der Webseite bei.\n",
    "\n",
    "***You:*** Erläutere mir kurz, wie die Tags für Absätze, Überschriften und Listen zu verwenden sind.\n",
    "\n",
    "\n",
    "***ChatGPT:*** Natürlich! Hier sind kurze Erläuterungen zu den Tags für Absätze, Überschriften und Listen:\n",
    "\n",
    "1. Absätze (`<p>`):\n",
    "\n",
    "Der `<p>`-Tag wird verwendet, um Text in Absätzen zu strukturieren.\n",
    "Beispiel:\n",
    "\n",
    "```html\n",
    "<p>Dies ist ein Absatz. Hier steht Text.</p>\n",
    "<p>Ein weiterer Absatz mit mehr Text.</p>\n",
    "```\n",
    "\n",
    "2. Überschriften (`<h1>`, `<h2>`, ..., `<h6>`):\n",
    "\n",
    "Es gibt sechs Überschrifts-Tags von `<h1>` bis `<h6>`, wobei `<h1>` die größte und wichtigste Überschrift darstellt.\n",
    "Beispiel:\n",
    "\n",
    "```html\n",
    "<h1>Das ist eine Hauptüberschrift (H1)</h1>\n",
    "<h2>Das ist eine Unterüberschrift (H2)</h2>\n",
    "<h3>Weitere Unterüberschrift (H3)</h3>\n",
    "```\n",
    "\n",
    "3. Listen (`<ul>`, `<ol>`, `<li>`):\n",
    "\n",
    "Ungeordnete Liste (`<ul>`): Verwendet für Listen ohne eine spezielle Reihenfolge. Jedes Listenelement wird durch `<li>` definiert.\n",
    "Beispiel:\n",
    "\n",
    "```html\n",
    "<ul>\n",
    "  <li>Erstes Element</li>\n",
    "  <li>Zweites Element</li>\n",
    "  <li>Drittes Element</li>\n",
    "</ul>\n",
    "```\n",
    "\n",
    "Geordnete Liste (`<ol>`): Verwendet für nummerierte Listen. Auch hier wird jedes Element durch `<li>` dargestellt.\n",
    "Beispiel:\n",
    "\n",
    "```html\n",
    "<ol>\n",
    "  <li>Erstes Element</li>\n",
    "  <li>Zweites Element</li>\n",
    "  <li>Drittes Element</li>\n",
    "</ol>\n",
    "```\n",
    "\n",
    "Das sind grundlegende Beispiele, wie diese Tags verwendet werden können. Du kannst sie in beliebiger Kombination verwenden, um die Struktur deiner Webseite zu definieren und den Text zu organisieren.\n",
    "\n",
    "***You:*** Vielen Dank!\n",
    "\n",
    "***ChatGPT:*** Gern geschehen! Wenn du weitere Fragen hast oder zusätzliche Informationen benötigst, stehe ich zur Verfügung. Viel Erfolg beim Arbeiten mit HTML und dem Erstellen von Webseiten!"
   ]
  },
  {
   "cell_type": "markdown",
   "metadata": {
    "deletable": false,
    "editable": false
   },
   "source": [
    "## 1. Klasse HTMLParagraph\n",
    "\n",
    "Zunächst wollen wir eine einfache Klasse `HTMLParagraph` erstellen, welche einen Absatz in HTML rendert.\n",
    "\n",
    "Die Klasse soll folgende Member-Variable besitzen:\n",
    "\n",
    "* `content`: Speichert den Text des Absatzes.\n",
    "\n",
    "Außerdem hat die Klasse folgende Member-Funktionen:\n",
    "\n",
    "* `__init__()`: Konstruktor, dem optional Text übergeben werden können soll, der in `content` gespeichert wird. Wird kein Text übergeben, soll der Inhalt leer sein.\n",
    "* `set_content():` Setzt den in `content` enthaltenen Text.\n",
    "* `get_content():` Liefert den in `content` enthaltenen Text zurück.\n",
    "* `__str__()`: Gibt einen String des HTML-Elements in folgendem Format zurück:\n",
    "\n",
    "```text\n",
    "<p>{content}</p>\\n\n",
    "```\n",
    "\n",
    "wobei `{content}` mit dem in `content` enthaltenen Text zu ersetzen ist. "
   ]
  },
  {
   "cell_type": "code",
   "execution_count": null,
   "metadata": {
    "tags": []
   },
   "outputs": [],
   "source": [
    "class HTMLParagraph:\n",
    "..."
   ]
  },
  {
   "cell_type": "code",
   "execution_count": null,
   "metadata": {
    "deletable": false,
    "editable": false
   },
   "outputs": [],
   "source": [
    "paragraph = HTMLParagraph(\"Dies ist mein erster Paragraph\")\n",
    "print(paragraph)"
   ]
  },
  {
   "cell_type": "markdown",
   "metadata": {
    "deletable": false,
    "editable": false
   },
   "source": [
    "## 2. Klasse HTMLDocument\n",
    "\n",
    "Nun wollen wir eine Klasse HTMLDocument erstellen, welche ein komplettes HTMLDocument rendert (als String zurückliefert).\n",
    "Die Klasse soll folgende Member-Variablen besitzen:\n",
    "\n",
    "* `items`: Eine Liste von HTML-Elementen des Dokuments, die im Body ausgegeben werden sollen.\n",
    "* `language`: Enthält das Sprachkürzel, z.B. `de`.\n",
    "* `title`: Titel der Homepage.\n",
    "\n",
    "Außerdem besitzt die Klasse folgende Member-Funktionen:\n",
    "\n",
    "* `__init__()`: Konstruktor. Dem Konstruktor soll zwingend ein Titel übergeben werden müssen. Die Sprache soll ein optionaler Parameter sein, der per Default den Wert `en` haben soll.\n",
    "* `add_item()`: Fügt ein Element (z.B. vom Typ `HTMLParagraph`) zur Liste `items` hinzu.\n",
    "* `__str__`(): Rendert ein HTML-Dokument mit den gegebenen Eigenschaften und HTML-Elementen in folgendem Format:\n",
    "\n",
    "```text\n",
    "<html lang=\"{language}\">\n",
    "<head>\n",
    "    <meta charset=\"UTF-8\">\n",
    "    <meta name=\"viewport\" content=\"width=device-width, initial-scale=1.0\">\n",
    "    <title>{title}</title>\n",
    "</head>\n",
    "<body>\n",
    "{items[0]\n",
    " items[1]\n",
    " ...\n",
    "}\n",
    "</body>\n",
    "</html>\n",
    "```\n",
    "\n",
    "wobei `{language}`, `{title}` und `{items[0]}`, `{items[1]}`... mit den Inhalten der entsprechenden Member-Variablen zu ersetzen sind."
   ]
  },
  {
   "cell_type": "code",
   "execution_count": null,
   "metadata": {
    "tags": []
   },
   "outputs": [],
   "source": [
    "..."
   ]
  },
  {
   "cell_type": "code",
   "execution_count": null,
   "metadata": {
    "deletable": false,
    "editable": false
   },
   "outputs": [],
   "source": [
    "doc = HTMLDocument(\"Meine erste generierte Webseite\", 'de')\n",
    "doc.add_item(HTMLParagraph(\"Dies ist toller Text\"))\n",
    "print(doc)"
   ]
  },
  {
   "cell_type": "markdown",
   "metadata": {
    "deletable": false,
    "editable": false
   },
   "source": [
    "## 3. Klasse HTMLHeading\n",
    "\n",
    "Programmieren Sie analog zu `HTMLParagraph` eine Klasse `HTMLHeading`. \n",
    "Der Klasse soll bei der Konstruktion zusätzlich zwingend das `heading_level` übergeben werden (eine Zahl von 1 bis 6).\n",
    "Dies soll dann in der Funktion `__str__()` verwendet werden, um entweder `h1`, `h2`, usw. zu generieren."
   ]
  },
  {
   "cell_type": "code",
   "execution_count": null,
   "metadata": {
    "tags": []
   },
   "outputs": [],
   "source": [
    "..."
   ]
  },
  {
   "cell_type": "code",
   "execution_count": null,
   "metadata": {
    "deletable": false,
    "editable": false
   },
   "outputs": [],
   "source": [
    "doc = HTMLDocument(\"Meine erste generierte Webseite\", 'de')\n",
    "doc.add_item(HTMLHeading(1, \"Eine sehr große Überschrift\"))\n",
    "doc.add_item(HTMLHeading(2, \"Eine etwas kleinere Überschrift\"))\n",
    "doc.add_item(HTMLParagraph(\"Dies ist toller Text\"))\n",
    "\n",
    "# Erzeugt die Datei generated.html\n",
    "with open('generated.html', 'w') as file: \n",
    "    content = file.write(str(doc))        \n",
    "\n",
    "# Öffnen Sie nach erfolgreicher Ausführung die Datei generated.html mit einem Browser"
   ]
  },
  {
   "attachments": {
    "html_paragraph_heading.png": {
     "image/png": "[encoded data removed]"
    },
    "html_paragraph_heading_inheritance.png": {
     "image/png": "[encoded data removed]"
    }
   },
   "cell_type": "markdown",
   "metadata": {
    "deletable": false,
    "editable": false
   },
   "source": [
    "## 4. Vererbung zur Vermeidung von Code-Duplikation\n",
    "\n",
    "Die beiden Klassen `HTMLHeading` und `HTMLParagraph` haben einiges gemeinsam, wie man an dem folgenden Klassendiagramm erkennt:\n",
    "\n",
    "![html_paragraph_heading.png](attachment:html_paragraph_heading.png)\n",
    "\n",
    "Um diese Art der Code-Duplikation zu vermeiden, soll nun Vererbung genutzt werden. \n",
    "Das resultierende Klassendiagramm sieht wie folgt aus:\n",
    "\n",
    "![html_paragraph_heading_inheritance.png](attachment:html_paragraph_heading_inheritance.png)\n",
    "\n",
    "Die Basisklasse `HTMLBaseElement` bekommt bei der Konstruktion von dem Konstruktor der abgeleiteten Klasse (z.B. `HTMLHeading`) einen Parameter `tag` übergeben, welcher z.B. den Wert `\"h1\"` hat.\n",
    "\n",
    "Programmieren Sie das Klassendiagramm entsprechend der Spezifikation aus. Verwenden Sie `super()`, um von der abgeleiteten Klasse dne Konstruktor der Basisklasse aufzurufen (siehe auch [diese Folie](https://hm.pages.gitlab.lrz.de/teaching/muc.dai/computational-thinking-id/folien/ca005aac884949774ca2877e4712374cef6f06c1/folien/18_vererbung/18_vererbung.html#/funktion-der-basisklasse-aufrufen---teil-2))"
   ]
  },
  {
   "cell_type": "code",
   "execution_count": null,
   "metadata": {
    "tags": []
   },
   "outputs": [],
   "source": [
    "...\n"
   ]
  },
  {
   "cell_type": "code",
   "execution_count": null,
   "metadata": {
    "deletable": false,
    "editable": false
   },
   "outputs": [],
   "source": [
    "doc = HTMLDocument(\"Meine erste generierte Webseite\", 'de')\n",
    "doc.add_item(HTMLHeading(1, \"Eine sehr große Überschrift\"))\n",
    "doc.add_item(HTMLHeading(2, \"Eine etwas kleinere Überschrift\"))\n",
    "doc.add_item(HTMLParagraph(\"Bei der Erzeugung dieser Seite habe ich das erste Mal Vererbung genutzt. Das hat sehr viel Spaß gemacht.\"))\n",
    "\n",
    "# Erzeugt die Datei generated.html\n",
    "with open('generated.html', 'w') as file: \n",
    "    content = file.write(str(doc))        \n",
    "\n",
    "# Öffnen Sie nach erfolgreicher Ausführung generated.html mit einem Browser"
   ]
  },
  {
   "cell_type": "markdown",
   "metadata": {},
   "source": [
    "## Weitere Möglichkeiten zum Üben (optional)\n",
    "\n",
    "Um Objektorientierte Programmierung noch mehr zu üben, könnten Sie z.B. noch die Klasse für sortierte und unsortierte Listen implementieren. \n",
    "Überlegen Sie sich im Vorfeld Gemeinsamkeiten, skizzieren Sie ein Klassendiagramm und setzen es entsprechend um. \n",
    "\n",
    "*Tipp:* Das Diagramm könnte z.B. eine Basisklasse `HTMLList` enthalten von welcher `HTMLOrderedList` und `HTMLUnorderedList` erben."
   ]
  }
 ],
 "metadata": {
  "kernelspec": {
   "display_name": "Python 3",
   "language": "python",
   "name": "python3"
  },
  "language_info": {
   "codemirror_mode": {
    "name": "ipython",
    "version": 3
   },
   "file_extension": ".py",
   "mimetype": "text/x-python",
   "name": "python",
   "nbconvert_exporter": "python",
   "pygments_lexer": "ipython3",
   "version": "3.10.12"
  },
  "otter": {
   "OK_FORMAT": false,
   "assignment_name": "14_html_generator",
   "tests": {}
  }
 },
 "nbformat": 4,
 "nbformat_minor": 2
}
