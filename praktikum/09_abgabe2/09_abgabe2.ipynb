{
 "cells": [
  {
   "attachments": {},
   "cell_type": "markdown",
   "metadata": {},
   "source": [
    "# Computational Thinking WS2023/24 - Abgabe\n",
    "**Autoren:** \n",
    "+ Dr. Benedikt Zönnchen\n",
    "+ Prof. Martin Hobelsberger\n",
    "+ Prof. Martin Orehek\n",
    "+ Prof. Benedikt Dietrich"
   ]
  },
  {
   "attachments": {},
   "cell_type": "markdown",
   "metadata": {},
   "source": [
    "**Anmerkungen:**\n",
    "\n",
    "In diesem Notebook werden wir uns Stück für Stück einen Kontext erbauen, um mit Daten besser und bequemer umgehen zu können.\n",
    "Dabei verzichten wir auf Pakete wie\n",
    "\n",
    "+ ``numpy``\n",
    "+ ``pandas``\n",
    "\n",
    "und starten stattdessen von Neuem. Für den letzten Teil dieses Notebooks müssen aber beide Pakete installiert sein."
   ]
  },
  {
   "cell_type": "markdown",
   "metadata": {},
   "source": [
    "### CSV-Dateien\n",
    "\n",
    "Ein gängiges Format, um Daten zu speichern sind sogenannte CSV-Dateien, wobei CSV für *Comma-Separated Values* steht. In diesen Dateien enthält typischerweise die erste Zeile die Namen der Spalten, durch Kommas getrennt. Alle weiteren Zeilen enthalten die Daten, wiederum jeweils durch Kommas getrennt. Ein Beispiel einer Datei, in welcher Namen, Matrikelnummer, die erzielten Punkte und Noten von Studierenden abgespeichert werden, könnte wie folgt aussehen:\n",
    "\n",
    "``` \n",
    "Matrikelnummer,Name,Vorname,Punkte,Note\n",
    "12345678,Müller,Hans,79,2.3\n",
    "44445555,Musterfrau,Maria,99,1.0\n",
    "...\n",
    "```\n",
    "\n",
    "Der Name der ersten Spalte lautet in diesem Beispiel `Matrikelnummer`, der Name der zweiten Spalte `Name`, usw.. \n",
    "Der Student Hans Müller mit der Matrikelnummer 12345678 hat 79 Punkte erzielt, was der Note 2.3 entspricht.\n",
    "\n",
    "In den folgenden Aufgaben wollen wir unsere eigene Datenstruktur konstruieren, welche eine CSV-Datei repräsentieren soll. Diese Datenstruktur ``data`` ist ein Dictionary, welches lauter Listen enthält.\n",
    "Jede Liste repräsentiert eine Spalte der CSV-Datei.\n",
    "Die ``keys`` des Dictionarys repräsentieren den Spaltennamen.\n",
    "\n",
    "Die Aufgaben bauen teilweise aufeinander auf.\n",
    "Es ist insbesondere wichtig, dass Sie **Aufgabe 1**, **Aufgabe 2** und **Aufgabe 3** zuerst lösen, da Sie damit die angesprochene Datenstruktur erzeugen."
   ]
  },
  {
   "cell_type": "code",
   "execution_count": null,
   "metadata": {},
   "outputs": [],
   "source": [
    "import otter\n",
    "import csv\n",
    "\n",
    "grader = otter.Notebook('09_abgabe2.ipynb')\n",
    "\n",
    "path_to_csv_file = './data/test-data.csv'"
   ]
  },
  {
   "cell_type": "markdown",
   "metadata": {},
   "source": [
    "Folgender Code gibt die ersten ``n`` Zeilen der CSV-Datei ``./data/test-data.csv`` aus.\n",
    "Dabei verwenden wir aus dem Standardpaket ``csv`` die Funktion ``reader``, welche einen neuen sog. Handle erzeugt, mithilfe dem wir durch die CSV-Datei *iterieren* können."
   ]
  },
  {
   "cell_type": "markdown",
   "metadata": {},
   "source": [
    "***Hinweis:*** Debuggen Sie, bevor sie weitermachen, unbedingt folgenden Code Zeile für Zeile und stellen Sie sicher, dass sie verstehen, welche Werte welche Variable bei den einzelnen Durchläufen annehmen. "
   ]
  },
  {
   "cell_type": "code",
   "execution_count": null,
   "metadata": {},
   "outputs": [],
   "source": [
    "n = 5\n",
    "with open(path_to_csv_file, newline='') as csvfile:\n",
    "    handle = csv.reader(csvfile, delimiter=',')\n",
    "    count = 1\n",
    "    for row in handle:\n",
    "        if count >= n:\n",
    "            break\n",
    "        print(f\"Zeile {count}: \")\n",
    "        for col in row:\n",
    "            print(col)\n",
    "        print(\"\")\n",
    "        count += 1\n"
   ]
  },
  {
   "cell_type": "markdown",
   "metadata": {
    "deletable": false,
    "editable": false
   },
   "source": [
    "***\n",
    "***Aufgabe 1 (Lesen einer Spalte).***\n",
    "\n",
    "Schreiben Sie eine Funktion ``read_column(name, path_to_csv_file)``, welche Ihnen die Werte der Spalte mit dem Namen (Header) ``name`` als Liste zurückliefert.\n",
    "``path_to_csv_file`` ist der Dateipfad zur jeweiligen CSV-Datei.\n",
    "\n",
    "Angenommen die CSV-Datei sähe wie folgt aus:\n",
    "\n",
    "```\n",
    "x,y,name,price\n",
    "1.0,2.0,Toster,5\n",
    "2.3,21,Auto,9\n",
    "```\n",
    "\n",
    "dann sollte \n",
    "\n",
    "```python\n",
    "read_column('y', './data/test-data.csv')\n",
    "```\n",
    "\n",
    "folgendes zurückliefern:\n",
    "\n",
    "```python\n",
    "['2.0', '21']\n",
    "```\n",
    "\n",
    "Gehen Sie bei Ihrer Lösung wie folgt vor:\n",
    "\n",
    "1. Überlegen Sie sich als erstes, wie sie herausfinden können, welche die gesuchte Spalte ist. \n",
    "1. Schreiben Sie eine Funktion `read_column(name, path_to_csv_file)`, welche den Index der Spalte mit dem Namen `name` ermittelt und ausgibt. Für einen Aufruf `read_column('y', './data/test-data.csv')` sollte die Funktion also `1`, für `read_column('price', './data/test-data.csv')` die `3` ausgeben.\n",
    "1. Erweitern Sie nun den Code, sodass Daten der gesuchten Spalte ausgegeben werden, also z.B. `'2.0'` und `'21'` wenn die Funktion mit `read_column('y', './data/test-data.csv')` aufgerufen wird.\n",
    "1. Erweitern Sie nun Ihren Code und erzeugen zu Beginn der Funktion eine leere Liste `data`. Fügen Sie alle Daten aus der gesuchten Spalte zur Liste hinzu. Die Funktion soll `data` zurückliefern.\n",
    "1. Erweitern Sie Ihre Funktion nun noch um eine Fehlerbehandlung: sollte der gesuchte Namen nicht Teil der Daten sein, soll eine leere Liste zurückgegeben werden.\n",
    "\n",
    "**Hinweis 1:** Beachten Sie, dass die eingelesenen Daten alle Strings zurückgeliefert werden. Wir werden uns diesem Problem weiter unten annehmen.\n",
    "\n",
    "**Hinweis 2:** Bedenken Sie, dass die erste Zeile, welche Sie einlesen, sich von allen anderen Zeilen unterscheidet, da es sich um die Namen der Spalten handelt!"
   ]
  },
  {
   "cell_type": "code",
   "execution_count": null,
   "metadata": {
    "tags": []
   },
   "outputs": [],
   "source": [
    "def read_column(name, path_to_csv_file):\n",
    "    ...\n",
    "    \n",
    "print(read_column('y', path_to_csv_file))\n",
    "print(read_column('price', path_to_csv_file))"
   ]
  },
  {
   "cell_type": "code",
   "execution_count": null,
   "metadata": {
    "deletable": false,
    "editable": false
   },
   "outputs": [],
   "source": [
    "grader.check(\"q1\")"
   ]
  },
  {
   "cell_type": "markdown",
   "metadata": {},
   "source": [
    "### Einschub - Funktionen als Referenz\n",
    "\n",
    "In Python ist es möglich, einer Funktion eine Funktion als Parameter zu übergeben. Hier ein kleiner Beispielcode:"
   ]
  },
  {
   "cell_type": "code",
   "execution_count": null,
   "metadata": {},
   "outputs": [],
   "source": [
    "def multiply(a, b):\n",
    "    return a * b\n",
    "\n",
    "def add(a, b):\n",
    "    return a + b\n",
    "\n",
    "def do_math(function_name, operand1, operand2):\n",
    "    result = function_name(operand1, operand2)\n",
    "    return result\n",
    "\n",
    "result1 = do_math(multiply, 2, 3)\n",
    "result2 = do_math(add, 2, 3)\n",
    "\n",
    "print(f\"{result1=}\")\n",
    "print(f\"{result2=}\")"
   ]
  },
  {
   "cell_type": "markdown",
   "metadata": {
    "deletable": false,
    "editable": false
   },
   "source": [
    "***\n",
    "***Aufgabe 2 (Erweiterung mit Parser).***\n",
    "\n",
    "Mit der Möglichkeit Funktionen als Parameter zu übergeben erreicht man, dass eine Funktion eine Funktion unserer Wahl aufruft. Das ist für unseren Spaltenleser `read_colum` besonders praktisch, da man so Daten direkt beim Einlesen vorverarbeiten kann.\n",
    "\n",
    "In der folgenden Aufgabe sollen Sie die oben definierte Funktion `read_column` noch um den optionalen Parameter `parser` erweitern. Übergibt man für ``parser`` eine Funktion, soll diese Funktion für alle Daten der Spalte angewendet werden.\n",
    "\n",
    "***Beispiel 1:***\n",
    "\n",
    "Der Code \n",
    "\n",
    "```python\n",
    "    def to_int(value):\n",
    "        return int(value)\n",
    "\n",
    "    read_column('price', './data/test-data.csv', to_int)\n",
    "```\n",
    "\n",
    "soll folgendes zurückliefern:\n",
    "\n",
    "```python\n",
    "    [5, 9]\n",
    "```\n",
    "\n",
    "***Beispiel 2:***\n",
    "\n",
    "Der Code \n",
    "\n",
    "```python\n",
    "    def multiply_by_two(value):\n",
    "        return int(value) * 2 # Achtung: Beachten Sie die Konvertierung in int!\n",
    "\n",
    "    read_column('price', './data/test-data.csv', multiply_by_two)\n",
    "```\n",
    "\n",
    "soll folgendes zurückliefern:\n",
    "\n",
    "```python\n",
    "    [10, 18]\n",
    "```\n",
    "\n",
    "***Beispiel 3:***\n",
    "\n",
    "Wird `read_column` nur mit zwei Parametern aufgerufen, soll `parser` den Default-Wert `None` haben. In diesem Fall soll der Wert der Spalte unverändert zurückgegeben werden.\n",
    "\n",
    "Der Aufruf\n",
    "\n",
    "```python\n",
    "    read_column('price', './data/test-data.csv')\n",
    "```\n",
    "\n",
    "soll also folgendes zurückliefern:\n",
    "\n",
    "```python\n",
    "    ['5', '9']\n",
    "```"
   ]
  },
  {
   "cell_type": "code",
   "execution_count": null,
   "metadata": {
    "tags": []
   },
   "outputs": [],
   "source": [
    "..."
   ]
  },
  {
   "cell_type": "code",
   "execution_count": null,
   "metadata": {
    "deletable": false,
    "editable": false
   },
   "outputs": [],
   "source": [
    "grader.check(\"q2\")"
   ]
  },
  {
   "cell_type": "markdown",
   "metadata": {
    "deletable": false,
    "editable": false
   },
   "source": [
    "***Aufgabe 3 (Erzeugen eines Dictionaries aus der CSV-Datei).*** \n",
    "\n",
    "Schreiben Sie eine Funktion ``read(names, path_to_csv_file, parsers=None)``, welche Ihnen die Spalten, definiert in ``names``, in ein Dictionary steckt.\n",
    "Dabei sollen die ``keys`` des Dictionarys aus den Namen ``names`` bestehen und die ``values`` des Dictionarys aus den Spalten (als Listen) bestehen.\n",
    "Die Funktion soll das konstruierte Dictionary zurückliefern.\n",
    "\n",
    "Mit Hilfe des Parameters `parsers` soll eine Liste an `parser` übergeben werden können.\n",
    "Gibt es für den ``i``-ten Namen einen Parser ``parsers[i]``, d.h. entspricht der Wert von `parsers[i]` nicht `None`, so sollte jeder Wert ``value`` der entsprechenden Spalte durch den Wert ``parser[i](value)`` ersetzt werden.\n",
    "\n",
    "\n",
    "***Beispiele***\n",
    "\n",
    "Für folgende CSV-Datei\n",
    "\n",
    "```\n",
    "x,y,name,price\n",
    "1.0,2.0,Toster,5\n",
    "2.3,21,Auto,9\n",
    "```\n",
    "\n",
    "ergibt\n",
    "\n",
    "```python\n",
    "data = read(['y', 'x'], path_to_csv_file)\n",
    "print(data)\n",
    "```\n",
    "\n",
    "folgende Ausgabe\n",
    "\n",
    "```python\n",
    "{'y': ['2.0','21'], 'x': ['1.0','2.3']}\n",
    "```\n",
    "\n",
    "und\n",
    "\n",
    "```python\n",
    "\n",
    "def multiply_by_two(x):\n",
    "    return 2*int(x)\n",
    "\n",
    "data = read(['price', 'x'], path_to_csv_file, [multiply_by_two, None])\n",
    "print(data)\n",
    "```\n",
    "\n",
    "führt zu folgender Ausgabe\n",
    "\n",
    "```python\n",
    "{'price': [10,18], 'x': [1.0,2.3]}\n",
    "```\n",
    "\n",
    "**Tipp 1:** Sie können (müssen aber nicht) Ihre Funktion ``read_column`` verwenden.\n",
    "\n",
    "**Tipp 2:** Setzen Sie die Funktion erst Mal ohne `parsers` um. Wenn das normale Einlesen der Spalten in das Dictionary funktioniert, erweitern Sie Ihren Code um die Funktionalität `parsers`."
   ]
  },
  {
   "cell_type": "code",
   "execution_count": null,
   "metadata": {
    "tags": []
   },
   "outputs": [],
   "source": [
    "...\n",
    "\n",
    "def multiply_by_two(x):\n",
    "    return 2*int(x)\n",
    "\n",
    "data = read(['y', 'x'], path_to_csv_file)\n",
    "print(data)\n",
    "\n",
    "table = read(['price', 'x'], path_to_csv_file, [multiply_by_two, None])\n",
    "print(table)"
   ]
  },
  {
   "cell_type": "code",
   "execution_count": null,
   "metadata": {
    "deletable": false,
    "editable": false
   },
   "outputs": [],
   "source": [
    "grader.check(\"q3\")"
   ]
  },
  {
   "cell_type": "markdown",
   "metadata": {},
   "source": [
    "Wir können eine CSV-Datei nun bequem in eine Python-Datenstruktur einlesen.\n",
    "Diese Datenstruktur bezeichnen wir von nun an als ``data``."
   ]
  },
  {
   "cell_type": "markdown",
   "metadata": {
    "deletable": false,
    "editable": false
   },
   "source": [
    "***Aufgabe 4 (Anzahl der Zeilen).*** \n",
    "\n",
    "Schreiben Sie eine Funktion ``len_data(data)``, welche die Anzahl der Zeilen von ``data`` zurückliefert.\n",
    "\n",
    "Der Code \n",
    "\n",
    "```python\n",
    "print(len_data(read(['y'], './data/test-data.csv')))\n",
    "```\n",
    "\n",
    "sollte beispielsweise \n",
    "\n",
    "``2`` \n",
    "\n",
    "zurückliefern. \n",
    "\n",
    "Existiert der key nicht, oder ist die Liste leer, soll die Funktion ``0`` zurückliefern."
   ]
  },
  {
   "cell_type": "code",
   "execution_count": null,
   "metadata": {
    "tags": []
   },
   "outputs": [],
   "source": [
    "def len_data(data):\n",
    "    ...\n",
    "\n",
    "print(len_data(read(['y'], path_to_csv_file)))"
   ]
  },
  {
   "cell_type": "code",
   "execution_count": null,
   "metadata": {
    "deletable": false,
    "editable": false
   },
   "outputs": [],
   "source": [
    "grader.check(\"q4\")"
   ]
  },
  {
   "cell_type": "markdown",
   "metadata": {
    "deletable": false,
    "editable": false
   },
   "source": [
    "***Aufgabe 5 (Spaltennamen).*** \n",
    "\n",
    "Schreiben Sie eine Funktion ``get_names(data)``, welche eine Liste mit allen Spaltennamen unserer Datenstruktur ``data`` zurückliefert.\n",
    "\n",
    "Beispielsweise sollte:\n",
    "\n",
    "```python\n",
    "get_names({'x': [1,2], 'name': ['Anna', 'Klaus']})\n",
    "```\n",
    "\n",
    "``['x', 'name']`` oder ``['name', 'x']`` ausgeben."
   ]
  },
  {
   "cell_type": "code",
   "execution_count": null,
   "metadata": {
    "tags": []
   },
   "outputs": [],
   "source": [
    "def get_names(data):\n",
    "    ...\n",
    "\n",
    "get_names(read(['y', 'price'], path_to_csv_file))"
   ]
  },
  {
   "cell_type": "code",
   "execution_count": null,
   "metadata": {
    "deletable": false,
    "editable": false
   },
   "outputs": [],
   "source": [
    "grader.check(\"q5\")"
   ]
  },
  {
   "cell_type": "markdown",
   "metadata": {
    "deletable": false,
    "editable": false
   },
   "source": [
    "***Aufgabe 6 (Zeilen auswählen).*** \n",
    "\n",
    "Schreiben Sie eine Funktion ``get_row(data, i)``, welche ein Dictionary zurückliefert, wobei die ``keys`` die Spaltennamen unserer Datenstruktur ``data`` sind und die ``values`` der ``i``-te Wert der dazugehörenden Spalte ist.\n",
    "\n",
    "Beispielsweise sollte\n",
    "\n",
    "```python\n",
    "my_data = {'x': [1,2,3], \n",
    "           'name': ['Anna', 'Klaus','Nina']\n",
    "           }\n",
    "get_row(my_data, 1)\n",
    "```\n",
    "\n",
    "``{'x': 2, 'name': 'Klaus'}`` ausgeben.\n",
    "\n",
    "Ist ``i`` außerhalb des gültigen Wertebereichs (für das gegebene Beispiel wäre das für `i > 2` der Fall), soll die Funktion ein leeres Dictionary zurückliefern. "
   ]
  },
  {
   "cell_type": "code",
   "execution_count": null,
   "metadata": {
    "tags": []
   },
   "outputs": [],
   "source": [
    "def get_row(data, i):\n",
    "    ...\n",
    "\n",
    "get_row({'x': [1,2,3], 'name': ['Anna', 'Klaus','Nina']}, 1)"
   ]
  },
  {
   "cell_type": "code",
   "execution_count": null,
   "metadata": {
    "deletable": false,
    "editable": false
   },
   "outputs": [],
   "source": [
    "grader.check(\"q6\")"
   ]
  },
  {
   "cell_type": "markdown",
   "metadata": {
    "deletable": false,
    "editable": false
   },
   "source": [
    "<!-- BEGIN QUESTION -->\n",
    "\n",
    "***\n",
    "***Aufgabe 7 (Zeilen filtern).***\n",
    "\n",
    "Beschreiben Sie welche Auswirkungen folgende Funktion `filter_data()` hat."
   ]
  },
  {
   "cell_type": "code",
   "execution_count": null,
   "metadata": {
    "deletable": false,
    "editable": false
   },
   "outputs": [],
   "source": [
    "def keep_all(x):\n",
    "    return True\n",
    "\n",
    "def price_is_less_than_nine(x):\n",
    "    return True if x['price'] < 9 else False\n",
    "\n",
    "def filter_data(data, predicate = keep_all):\n",
    "    copy = {name: [] for name in get_names(data)}\n",
    "    for i in range(len_data(data)):\n",
    "        row = get_row(data, i)\n",
    "        if predicate(row):\n",
    "            for name in row:\n",
    "                copy[name].append(row[name])\n",
    "    return copy\n",
    "\n",
    "data = {'price': [5, 32, 7, 11], 'name': ['Tasse', 'Stuhl', 'Block', 'Koffer']}\n",
    "filter_data(data, price_is_less_than_nine)"
   ]
  },
  {
   "cell_type": "markdown",
   "metadata": {},
   "source": [
    "_Ersetzen Sie diesen Text durch Ihre Antwort._"
   ]
  },
  {
   "cell_type": "markdown",
   "metadata": {
    "deletable": false,
    "editable": false
   },
   "source": [
    "<!-- END QUESTION -->\n",
    "\n",
    "***Aufgabe 8 (Spalten aggregieren).*** \n",
    "\n",
    "Um Daten zu analysieren wollen wir verschiedene Operationen über Spalten durchführen, welche ausschließlich numerische Werte enthalten.\n",
    "Jede dieser Operationen liefert genau einen numerischen Wert zurück.\n",
    "\n",
    "Schreiben Sie folgende Funktionen:\n",
    "\n",
    "+ ``sum_col(data, col_name)``: gibt die Summe aller Spalteneinträge mit dem Namen ``col_name`` zurück\n",
    "+ ``avg_col(data, col_name)``: gibt den Durchschnittswert der Spalteneinträge mit dem Namen ``col_name`` zurück\n",
    "+ ``max_col(data, col_name)``:  gibt den größten Wert der Spalteneinträge mit dem Namen ``col_name`` zurück\n",
    "+ ``min_col(data, col_name)``:  gibt den kleinsten Wert der Spalteneinträge mit dem Namen ``col_name`` zurück\n",
    "\n",
    "**Empfehlung:** Verzichten Sie bei Ihrer Implementierung auf die Verwendung der ``Python``-Built-in Funktionen ``sum``, ``max``, ``min``. Dadurch lernen Sie bei der Umsetzung der Aufgabe deutlich mehr."
   ]
  },
  {
   "cell_type": "code",
   "execution_count": null,
   "metadata": {
    "tags": []
   },
   "outputs": [],
   "source": [
    "...\n",
    "\n",
    "\n",
    "data = {'price': [5, 32, 7, 11], 'name': ['Tasse', 'Stuhl', 'Block', 'Koffer']}\n",
    "print(sum_col(data, 'price'))\n",
    "print(avg_col(data, 'price'))\n",
    "print(max_col(data, 'price'))\n",
    "print(min_col(data, 'price'))"
   ]
  },
  {
   "cell_type": "code",
   "execution_count": null,
   "metadata": {
    "deletable": false,
    "editable": false
   },
   "outputs": [],
   "source": [
    "grader.check(\"q8\")"
   ]
  },
  {
   "cell_type": "markdown",
   "metadata": {
    "deletable": false,
    "editable": false
   },
   "source": [
    "***Aufgabe 9 (Datenverarbeitung)***.\n",
    "\n",
    "Nun wollen wir die geschriebenen Funktionen nutzen, um einen einfachen Datensatz zu verarbeiten. Gegeben ist ein von ChatGPT erzeugter Datensatz `./data/exam_results.csv`. Dieser beinhaltet Name, ID und erreichte Punkte von Studierenden in einer Prüfung. \n",
    "\n",
    "Werten Sie die Daten mit Hilfe der geschriebenen Funktionen wie folgt aus:\n",
    "\n",
    "1. Bestimmen Sie die durchschnittlich erreichte Punktezahl und geben diese aus.\n",
    "1. Bestimmen Sie die minimal erreichte Punktezahl und geben diese aus.\n",
    "1. Bestimmen Sie die maximal erreichte Punktezahl und geben diese aus.\n",
    "1. Berechnen Sie für alle Student:innen die Note. Schreiben Sie hierfür eine Funktion `points_to_grade(points)`, welche folgendes Bewertungsschema umsetzt und für eine (!) übergebene Punktezahl die zugehörige Note zurückliefert:\n",
    "\n",
    "    | von einschließlich | bis einschließlich | Note |\n",
    "    |--------------------|--------------------|------|\n",
    "    | 0                  | 49                 | 5.0  |\n",
    "    | 50                 | 62                 | 4.0  |\n",
    "    | 63                 | 75                 | 3.0  |\n",
    "    | 76                 | 89                 | 2.0  |\n",
    "    | 90                 | 100                | 1.0  |\n",
    "\n",
    "\n",
    "\n",
    "1. Ermitteln Sie die Durchschnittsnote der Prüfung.\n",
    "1. Ermitteln Sie die Häufigkeit jeder einzelnen Noten, d.h. wie oft gab es eine 1.0, wie oft eine 2.0, usw.\n",
    "\n",
    "Das Ergebnis Ihrer Auswertesoftware könnte z.B. wie folgt aussehen:\n",
    "\n",
    "```\n",
    "Die durchschnittlich erreichte Punktezahl beträgt: 81.05\n",
    "Die minimal erreichte Punktezahl beträgt: 59\n",
    "Die maximal erreichte Punktezahl beträgt: 100\n",
    "\n",
    "Die durchschnittlich erreichte Note beträgt: 2.10\n",
    "\n",
    "Häufigkeiten der einzelnen Noten:\n",
    "1.0: 21\n",
    "2.0: 30\n",
    "3.0: 23\n",
    "4.0: 3\n",
    "5.0: 0\n",
    "```"
   ]
  },
  {
   "cell_type": "code",
   "execution_count": null,
   "metadata": {
    "tags": []
   },
   "outputs": [],
   "source": [
    "..."
   ]
  },
  {
   "cell_type": "markdown",
   "metadata": {},
   "source": [
    "## Bonusaufgabe\n",
    "\n",
    "Die Bearbeitung folgender Aufgabe ist freiwillig gedacht. Für eine erfolgreiche Abgabe ist die Lösung dieser Aufgabe nicht notwendig."
   ]
  },
  {
   "cell_type": "markdown",
   "metadata": {},
   "source": [
    "### Einschub - Lambdas\n",
    "\n",
    "In den bisherigen Aufgaben haben wir Funktionen als Parameter übergeben. Hierfür haben wir zunächst eine eigene Funktion definiert und dann den Namen der Funktion als Parameter z.B. an `read_column` übergeben. \n",
    "\n",
    "Eine deutlich kürzere Schreibweise, um Funktionen als Parameter zu übergeben sind sog. Lambdas. Lambdas sind kleine anonyme Funktionen, d.h. Sie haben keinen Funktionsnamen. Die Syntax lautet dabei wie folgt: \n",
    "\n",
    "```python\n",
    "lambda arguments: expression\n",
    "```\n",
    "\n",
    "Hier ein einfaches Beispiel, wie Lambdas verwendet werden können:"
   ]
  },
  {
   "cell_type": "code",
   "execution_count": null,
   "metadata": {},
   "outputs": [],
   "source": [
    "def add(x, y):\n",
    "    return x + y\n",
    "\n",
    "def do_math(function, x, y):\n",
    "    return function(x, y)\n",
    "\n",
    "# Mit Hilfe der Funktion\n",
    "result_function = add(2, 3)\n",
    "\n",
    "# Mit Hilfe einer Lambda-Funktion\n",
    "result_lambda = do_math(lambda x, y: x + y, 2, 3)\n",
    "\n",
    "print(result_function)\n",
    "print(result_lambda)"
   ]
  },
  {
   "cell_type": "markdown",
   "metadata": {
    "deletable": false,
    "editable": false
   },
   "source": [
    "***Aufgabe 10 (Datenvisualisierung).*** \n",
    "\n",
    "Mithilfe unserer bisher implementierten Funktionen sind wir in der Lage erste Analysen eines Datensatzes durchzuführen. \n",
    "\n",
    "Der Datensatz ``./data/GlobalTemperature.csv`` enthält Informationen über die globale Temperaturentwicklung von 1750 bis 2015.\n",
    "Öffnen Sie den Datensatz (z.B. mit Excel oder einem Texteditor) und sehen Sie sich dessen Struktur an.\n",
    "Wir möchten daraus einen Graphen/Plot erzeugen , der uns die mittlere (Land)-Temperatur pro Jahr darstellt.\n",
    "D.h. auf der $x$-Achse sollen die Jahre angetragen werden und auf der $y$-Achse die mittlere Temperatur in jenem Jahr.\n",
    "Diese Informationen stehen in der Spalte ``LandAverageTemperature`` (Temperaturwerte allerdings pro Monat) und ``dt`` (allerdings Datum mit Tag, Monat und Jahr).\n",
    "\n",
    "Wir wollen diese Informationen in unserer Datenstruktur (Dictionary aus Listen) abspeichern, sodass wir diese weiter verarbeiten können.\n",
    "Schreiben Sie hierfür eine Funktion ``compute_global_mean_temperature(data)`` die Ihnen folgendes Dictionary zurückliefert:\n",
    "\n",
    "```python\n",
    "data_temperature = {'Year': [1750, 1751, ..., 2015], 'Mean Temperature': [...]}\n",
    "```\n",
    "\n",
    "dabei ist ``data_temperature['Mean Temperature']`` eine Liste aus ``float`` und beinhaltet die mittleren Jahrestemperaturen.\n",
    "``data_temperature['Year']`` ist hingegen eine Liste aus ``int`` und beinhaltet die dazu passenden Jahre.\n",
    "\n",
    "Sie können davon ausgehen, dass der Datensatz für jedes Jahr mindestens einen Wert enthält.\n",
    "\n",
    "Der darauffolgende Code, welcher einen Plot erzeugt, sollte, nachdem Sie die Funktione implementiert haben, funktionieren.\n",
    "\n",
    "**Hinweise:** Es gibt Monate in denen kein Wert eingetragen ist, diese filtern wir bereits im folgenden Code. \n",
    "Außerdem wandeln wir bereits das Datum in der Form ``'1781-10-01'`` in eine ganze Zahl ``1781`` um. Dies müssen Sie nicht mehr machen.\n",
    "Ganz am Ende des Notebooks plotten wir den Graphen mit ``Pandas``.\n",
    "Hier sehen Sie wie der Plot aussehen sollte."
   ]
  },
  {
   "cell_type": "code",
   "execution_count": null,
   "metadata": {
    "tags": []
   },
   "outputs": [],
   "source": [
    "data = read(['dt', 'LandAverageTemperature'], './data/GlobalTemperatures.csv', [\n",
    "    lambda date: int(date.split('-')[0]),\n",
    "    lambda temperature: float(temperature) if temperature != '' else 'NaN'])\n",
    "\n",
    "# filter rows without values\n",
    "data = filter_data(data, lambda row: type(row['LandAverageTemperature']) == float)"
   ]
  },
  {
   "cell_type": "code",
   "execution_count": null,
   "metadata": {
    "tags": []
   },
   "outputs": [],
   "source": [
    "def compute_global_mean_temperature(data):\n",
    "    ...\n",
    "    return {'Year': years, 'Mean Temperature': temperature_per_year}"
   ]
  },
  {
   "cell_type": "code",
   "execution_count": null,
   "metadata": {
    "tags": []
   },
   "outputs": [],
   "source": [
    "import matplotlib.pyplot as plt\n",
    "import numpy as np\n",
    "\n",
    "data_temperature = compute_global_mean_temperature(data)\n",
    "\n",
    "first_year = min_col(data_temperature, 'Year')\n",
    "mean_first = 1951-first_year\n",
    "mean_last = 1980-first_year\n",
    "corresponding = data_temperature['Mean Temperature'][mean_first:mean_last+1]\n",
    "corresponding_mean = sum(corresponding) / len(corresponding)\n",
    "\n",
    "\n",
    "plt.plot(data_temperature['Year'], np.array(data_temperature['Mean Temperature'])-corresponding_mean)\n",
    "\n",
    "plt.title('Globale mittlere Temperaturabweichung im Vergleich zum Mittel zwischen 1951 und 1980')\n",
    "plt.xlabel('Jahr')\n",
    "plt.ylabel('Temperatur')"
   ]
  },
  {
   "cell_type": "code",
   "execution_count": null,
   "metadata": {
    "deletable": false,
    "editable": false
   },
   "outputs": [],
   "source": [
    "grader.check(\"q10\")"
   ]
  },
  {
   "cell_type": "markdown",
   "metadata": {},
   "source": [
    "***\n",
    "\n",
    "Im folgenden sehen Sie eine Möglichkeit wie wir die gleiche Darstellung mit ``Pandas`` erzeugen können."
   ]
  },
  {
   "cell_type": "code",
   "execution_count": null,
   "metadata": {},
   "outputs": [],
   "source": [
    "import pandas as pd\n",
    "\n",
    "df = pd.read_csv('./data/GlobalTemperatures.csv')                                        # read data\n",
    "df = df.dropna(subset=['LandAverageTemperature'])                                        # remove rows where there is no data for the temperature\n",
    "df['Year'] = df['dt'].transform(lambda date: int(date.split('-')[0]))                    # add column for the year\n",
    "\n",
    "mean = df[(df['Year'] >= 1951) & (df['Year'] <= 1980)]['LandAverageTemperature'].mean()  # compute the mean between 1750 and 1951\n",
    "\n",
    "df = df.groupby(['Year']).mean()                                                         # compute the yearly mean\n",
    "\n",
    "df['Temperaturabweichung'] = df['LandAverageTemperature'].transform(lambda x: x - mean)  # subtract the mean between 1750 and 1951\n",
    "\n",
    "# plot it\n",
    "df['Temperaturabweichung'].plot(ylabel='Temperatur', xlabel='Jahr', title= 'Globale mittlere Temperaturabweichung im Vergleich zum Mittel zwischen 1951 und 1980')"
   ]
  },
  {
   "cell_type": "markdown",
   "metadata": {
    "deletable": false,
    "editable": false
   },
   "source": [
    "## Abgabe **Please save before exporting!**\n",
    "\n",
    "Dieses Notebook ist eine **Abgabe**! Zur erfolgreichen Abgabe wird erwartet, dass Sie die Aufgabe in Moodle hochgeladen und mit Ihrem Praktikumsleiter durchgesprochen haben. Zum Hochladen in Moodle führen Sie alles von oben nach unten aus, speichern Sie Ihr Notebook und laden Sie die generierte .zip-Datei in Moodle hoch."
   ]
  },
  {
   "cell_type": "code",
   "execution_count": null,
   "metadata": {
    "deletable": false,
    "editable": false
   },
   "outputs": [],
   "source": [
    "# Save your notebook first, then run this cell to export your submission.\n",
    "grader.export(pdf=False)"
   ]
  },
  {
   "cell_type": "markdown",
   "metadata": {},
   "source": [
    " "
   ]
  }
 ],
 "metadata": {
  "kernelspec": {
   "display_name": "Python 3 (ipykernel)",
   "language": "python",
   "name": "python3"
  },
  "language_info": {
   "codemirror_mode": {
    "name": "ipython",
    "version": 3
   },
   "file_extension": ".py",
   "mimetype": "text/x-python",
   "name": "python",
   "nbconvert_exporter": "python",
   "pygments_lexer": "ipython3",
   "version": "3.10.12"
  },
  "otter": {
   "OK_FORMAT": false,
   "assignment_name": "09_abgabe2",
   "tests": {
    "q1": "from otter.test_files import test_case\n\nOK_FORMAT = False\n\nname = \"q1\"\npoints = 5\n\n@test_case(points=None, hidden=False, \n    success_message=\"Das sieht gut aus.\", \n    failure_message=\"Schlägt für die test-data.csv Datei\")\ndef test_read_column_simple(env):\n    path = './data/test-data.csv'\n    assert env['read_column']('x', path) == ['1.0', '2.3']\n    assert env['read_column']('name', path) == ['Toster', 'Auto']\n    assert env['read_column']('blablub', path) == []\n    \n",
    "q10": "from otter.test_files import test_case\n\nOK_FORMAT = False\n\nname = \"q10\"\npoints = 5\n\n@test_case(points=None, hidden=False, \n    success_message=\"Das sieht gut aus.\", \n    failure_message=\"Da ist was schief gegangen.\")\ndef test_compute_global_mean_temperature_simple(env):\n    test_data = {'dt': [1900, 1900, 1901, 1901], 'LandAverageTemperature': [3.0, 7.0, 5.0, 15.0]}\n    assert env['compute_global_mean_temperature'](test_data) == {'Year': [1900, 1901], 'Mean Temperature': [5.0, 10.0]}\n    \n",
    "q2": "from otter.test_files import test_case\n\nOK_FORMAT = False\n\nname = \"q2\"\npoints = 5\n\n@test_case(points=5, hidden=False)\ndef test_read_column(env):\n    path = './data/test-data.csv'\n    assert env['read_column']('x', path) == ['1.0', '2.3']\n    assert env['read_column']('y', path) == ['2.0', '21']\n    assert env['read_column']('name', path) == ['Toster', 'Auto']\n    assert env['read_column']('price', path) == ['5', '9']\n    \n    assert env['read_column']('x', path, lambda x: int(float(x))*2) == [2, 4]\n    assert env['read_column']('y', path, lambda y: float(y)) == [2.0, 21.0]\n    assert env['read_column']('price', path, lambda price: int(price)) == [5, 9]\n    assert env['read_column']('name', path, lambda name: name.upper()) == ['TOSTER', 'AUTO']\n    \n",
    "q3": "from otter.test_files import test_case\n\nOK_FORMAT = False\n\nname = \"q3\"\npoints = 5\n\n@test_case(points=None, hidden=False, \n    success_message=\"Das sieht gut aus.\", \n    failure_message=\"Schlägt für die test-data.csv Datei\")\ndef test_read_simple(env):\n    path = './data/test-data.csv'\n    assert env['read'](['x', 'name'], path) == {'x': ['1.0', '2.3'], 'name': ['Toster', 'Auto']}\n    \n",
    "q4": "from otter.test_files import test_case\n\nOK_FORMAT = False\n\nname = \"q4\"\npoints = 1\n\n@test_case(points=1, hidden=False, \n    success_message=\"Das sieht gut aus.\", \n    failure_message=\"Da ist was schief gegangen.\")\ndef test_len_data_simple(env):\n    assert env['len_data']({'x': [1,2], 'test': ['abc', 'def']}) == 2\n    assert env['len_data']({}) == 0, 'Leeres dict sollte 0 zurückliefern'\n    \n",
    "q5": "from otter.test_files import test_case\n\nOK_FORMAT = False\n\nname = \"q5\"\npoints = 1\n\n@test_case(points=1, hidden=False, \n    success_message=\"Das sieht gut aus.\", \n    failure_message=\"Da ist was schief gegangen.\")\ndef test_get_names(env):\n    assert 'test' in env['get_names']({'x': [1,2], 'test': ['abc', 'def']}) \n    assert 'x' in env['get_names']({'x': [1,2], 'test': ['abc', 'def']})\n    assert 'avg temp' in env['get_names']({'x': [1,2], 'avg temp': [1.2, 3.2], 'test': ['abc', 'def']}) \n    assert len(env['get_names']({})) == 0\n    \n",
    "q6": "from otter.test_files import test_case\n\nOK_FORMAT = False\n\nname = \"q6\"\npoints = 2\n\n@test_case(points=2, hidden=False, \n    success_message=\"Das sieht gut aus.\", \n    failure_message=\"Da ist was schief gegangen.\")\ndef test_get_row(env):\n    assert env['get_row']({'x': [1,2], 'test': ['abc', 'def']}, 0) == {'x': 1, 'test': 'abc'}\n    assert env['get_row']({'x': [1,2], 'test': ['abc', 'def']}, 3) == {}, 'Ein zu großer Index sollte ein leeres dict zurückliefern'\n    assert env['get_row']({}, 3) == {}, 'Leeres dict sollte ein leeres dict zurückliefern'\n    \n",
    "q8": "from otter.test_files import test_case\n\nOK_FORMAT = False\n\nname = \"q8\"\npoints = 4\n\n@test_case(points=1, hidden=False, \n    success_message=\"Das sieht gut aus.\", \n    failure_message=\"Da ist was schief gegangen.\")\ndef test_sum_col(env):\n    assert env['sum_col']({'x': [1,2,3], 'test': ['abc', 'def', 'das']}, 'x') == 6\n    \n@test_case(points=1, hidden=False, \n    success_message=\"Das sieht gut aus.\", \n    failure_message=\"Da ist was schief gegangen.\")\ndef test_avg_col(env):\n    assert env['avg_col']({'x': [1,2,3], 'test': ['abc', 'def', 'das']}, 'x') == 2\n    \n@test_case(points=1, hidden=False, \n    success_message=\"Das sieht gut aus.\", \n    failure_message=\"Da ist was schief gegangen.\")\ndef test_max_col(env):\n    assert env['max_col']({'x': [1,-2,3], 'test': ['abc', 'def', 'das']}, 'x') == 3\n    \n@test_case(points=1, hidden=False, \n    success_message=\"Das sieht gut aus.\", \n    failure_message=\"Da ist was schief gegangen.\")\ndef test_min_col(env):\n    assert env['min_col']({'x': [1,-2,3], 'test': ['abc', 'def', 'das']}, 'x') == -2\n    \n"
   }
  },
  "vscode": {
   "interpreter": {
    "hash": "881d337900756e70a76eada1facb65e60ce30b1cc249c92e2adf60a26cf555a8"
   }
  }
 },
 "nbformat": 4,
 "nbformat_minor": 4
}
